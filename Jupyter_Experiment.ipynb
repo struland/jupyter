{
  "nbformat": 4,
  "nbformat_minor": 0,
  "metadata": {
    "colab": {
      "name": "Jupyter Experiment.ipynb",
      "provenance": [],
      "authorship_tag": "ABX9TyO2xwD1vXoI62rrC8o3H6mQ",
      "include_colab_link": true
    },
    "kernelspec": {
      "name": "python3",
      "display_name": "Python 3"
    },
    "language_info": {
      "name": "python"
    }
  },
  "cells": [
    {
      "cell_type": "markdown",
      "metadata": {
        "id": "view-in-github",
        "colab_type": "text"
      },
      "source": [
        "<a href=\"https://colab.research.google.com/github/struland/jupyter/blob/main/Jupyter_Experiment.ipynb\" target=\"_parent\"><img src=\"https://colab.research.google.com/assets/colab-badge.svg\" alt=\"Open In Colab\"/></a>"
      ]
    },
    {
      "cell_type": "code",
      "execution_count": null,
      "metadata": {
        "colab": {
          "base_uri": "https://localhost:8080/"
        },
        "id": "Ck73j2CmORYx",
        "outputId": "0d3ce015-0974-4351-cf7f-0de4c75ffbf3"
      },
      "outputs": [
        {
          "output_type": "stream",
          "name": "stdout",
          "text": [
            "CPU times: user 3 µs, sys: 0 ns, total: 3 µs\n",
            "Wall time: 7.63 µs\n",
            "Table of squares\n",
            "0 times 0 = 0\n",
            "1 times 1 = 1\n",
            "2 times 2 = 4\n",
            "3 times 3 = 9\n",
            "4 times 4 = 16\n",
            "5 times 5 = 25\n",
            "6 times 6 = 36\n",
            "7 times 7 = 49\n",
            "8 times 8 = 64\n",
            "9 times 9 = 81\n"
          ]
        }
      ],
      "source": [
        "%time\n",
        "print('Table of squares')\n",
        "for i in range(10):\n",
        "  print(f'{i} times {i} = {i*i}')"
      ]
    },
    {
      "cell_type": "markdown",
      "source": [
        "## This is a test\n",
        "I want to **bold** and *italicize* and ~~strikethrough~~\n",
        "\n",
        "1. Hello\n",
        " + Hmm\n",
        " + Thinking\n",
        "2. Goodbye\n",
        "3. Sublist\n",
        " 1. abc\n",
        " 2. def\n",
        "4. Continue\n"
      ],
      "metadata": {
        "id": "pttiMKOwOqfo"
      }
    },
    {
      "cell_type": "markdown",
      "source": [
        "$e^x=\\sum_{n=0}^{100}\\frac{x^n}{n!}$"
      ],
      "metadata": {
        "id": "oBqGX5bWQeZe"
      }
    },
    {
      "cell_type": "markdown",
      "source": [
        "$x=\\frac{-b\\pm\\sqrt{b^2-4ac}}{2a}$."
      ],
      "metadata": {
        "id": "gdZW1zOcQQc3"
      }
    }
  ]
}